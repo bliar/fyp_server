{
 "cells": [
  {
   "cell_type": "code",
   "execution_count": 1,
   "metadata": {},
   "outputs": [],
   "source": [
    "import json\n",
    "import numpy as np\n",
    "import flask\n",
    "from flask import Flask, request, Response\n",
    "from torchtext import data\n",
    "import dill\n",
    "import torch\n",
    "import re\n",
    "import nltk\n",
    "from model import Comparer"
   ]
  },
  {
   "cell_type": "code",
   "execution_count": 2,
   "metadata": {},
   "outputs": [
    {
     "data": {
      "text/plain": [
       "Comparer(\n",
       "  (encoder): Encoder(\n",
       "    (embedding): Embedding(102969, 300)\n",
       "    (rnn): GRU(300, 256, bidirectional=True)\n",
       "    (h_u): Linear(in_features=512, out_features=256, bias=True)\n",
       "    (relu): ReLU()\n",
       "    (tanh): Tanh()\n",
       "    (softmax): Softmax()\n",
       "    (dropout): Dropout(p=0.1)\n",
       "  )\n",
       "  (emb): Linear(in_features=2048, out_features=128, bias=True)\n",
       "  (score): Linear(in_features=128, out_features=2, bias=True)\n",
       "  (relu): ReLU()\n",
       "  (layer1): Linear(in_features=128, out_features=128, bias=True)\n",
       "  (bn): BatchNorm1d(512, eps=1e-05, momentum=0.1, affine=True, track_running_stats=True)\n",
       "  (bn2): BatchNorm1d(128, eps=1e-05, momentum=0.1, affine=True, track_running_stats=True)\n",
       "  (dropout): Dropout(p=0.1)\n",
       ")"
      ]
     },
     "execution_count": 2,
     "metadata": {},
     "output_type": "execute_result"
    }
   ],
   "source": [
    "TEXT = dill.load(open(\"torchtext.words\", \"rb\"))\n",
    "m = Comparer(TEXT.vocab)\n",
    "m.load_state_dict(torch.load('model.pt', map_location='cpu'))\n",
    "m.eval()"
   ]
  },
  {
   "cell_type": "code",
   "execution_count": 3,
   "metadata": {},
   "outputs": [
    {
     "name": "stdout",
     "output_type": "stream",
     "text": [
      "torch.Size([102969, 300])\n"
     ]
    }
   ],
   "source": [
    "print(TEXT.vocab.vectors.shape)"
   ]
  },
  {
   "cell_type": "code",
   "execution_count": 4,
   "metadata": {},
   "outputs": [],
   "source": [
    "test_seq = torch.LongTensor(128, 1).random_(0, 102969)\n",
    "test_seq2 = torch.LongTensor(128, 1).random_(0, 102969)\n",
    "# Trace the model\n",
    "traced_comparer = torch.jit.trace(m, (test_seq, test_seq2))"
   ]
  },
  {
   "cell_type": "code",
   "execution_count": 8,
   "metadata": {},
   "outputs": [
    {
     "name": "stdout",
     "output_type": "stream",
     "text": [
      "tensor([[-0.1569,  0.2050]], grad_fn=<DifferentiableGraphBackward>)\n"
     ]
    }
   ],
   "source": [
    "print(traced_comparer(test_seq, test_seq2))"
   ]
  }
 ],
 "metadata": {
  "kernelspec": {
   "display_name": "Python 3",
   "language": "python",
   "name": "python3"
  },
  "language_info": {
   "codemirror_mode": {
    "name": "ipython",
    "version": 3
   },
   "file_extension": ".py",
   "mimetype": "text/x-python",
   "name": "python",
   "nbconvert_exporter": "python",
   "pygments_lexer": "ipython3",
   "version": "3.6.8"
  }
 },
 "nbformat": 4,
 "nbformat_minor": 2
}
